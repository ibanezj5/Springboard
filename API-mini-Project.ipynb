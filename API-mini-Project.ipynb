{
 "cells": [
  {
   "cell_type": "code",
   "execution_count": 1,
   "metadata": {},
   "outputs": [],
   "source": [
    "import requests\n",
    "import pandas as pd\n",
    "from datetime import datetime, timedelta\n",
    "\n",
    "#Collect data from the Franfurt Stock Exchange, for the ticker AFX_X, for the whole year 2017.\n",
    "#Convert the returned JSON object into a Python dictionary.\n",
    "\n",
    "api = 'https://www.quandl.com/api/v3/datasets/FSE/AFX_X.json?api_key=aKuLxDauvG-op52A2yyk'\n",
    "pull = requests.get(api).json()\n",
    "\n",
    "keys = pull['dataset']['column_names']\n",
    "values = pull['dataset']['data']\n",
    "df = pd.DataFrame(values, columns=keys)\n",
    "\n",
    "data = df[(df['Date'] > '2017-00-00') & (df['Date'] < '2017-99-99')]"
   ]
  },
  {
   "cell_type": "code",
   "execution_count": 2,
   "metadata": {
    "scrolled": true
   },
   "outputs": [
    {
     "name": "stdout",
     "output_type": "stream",
     "text": [
      "Highest opening price: 53.11\n",
      "Lowest opening price: 34.0\n"
     ]
    }
   ],
   "source": [
    "#Calculate what the highest and lowest opening prices were for the stock in this period.\n",
    "highest_open = data['Open'].max()\n",
    "print(\"Highest opening price: \" + str(highest_open))\n",
    "lowest_open = data['Open'].min()\n",
    "print(\"Lowest opening price: \" + str(lowest_open))"
   ]
  },
  {
   "cell_type": "code",
   "execution_count": 3,
   "metadata": {
    "scrolled": true
   },
   "outputs": [
    {
     "name": "stdout",
     "output_type": "stream",
     "text": [
      "Largest change based on the High and Low price occured on 2017-05-11 with a high of $46.06, a low of $43.25 and change of $2.81.\n"
     ]
    }
   ],
   "source": [
    "#What was the largest change in any one day (based on High and Low price)?\n",
    "largest_change = data[['Date','High','Low']]\n",
    "highest_diff = (largest_change['High'] - largest_change['Low']).max()\n",
    "solution =  largest_change.loc[ (largest_change['High'] - largest_change['Low']) ==  highest_diff ]\n",
    "\n",
    "print(\"Largest change based on the High and Low price occured on \" + \n",
    "      solution['Date'].to_string(index=False) + \" with a high of $\" + \n",
    "      solution['High'].to_string(index=False) + \", a low of $\" + solution['Low'].to_string(index=False) + \n",
    "      \" and change of $\" + str(round(highest_diff, 2)) + \".\")\n",
    "\n"
   ]
  },
  {
   "cell_type": "code",
   "execution_count": 4,
   "metadata": {},
   "outputs": [
    {
     "name": "stdout",
     "output_type": "stream",
     "text": [
      "Largest change between any two days occured between 2017-08-07 and 2017-08-08 with a change of $2.56\n"
     ]
    }
   ],
   "source": [
    "#What was the largest change between any two days (based on Closing Price)\n",
    "dates_and_close = data[['Date', 'Close']]\n",
    "dates_and_close_diff = dates_and_close.set_index('Date').diff()\n",
    "largest_close_change = dates_and_close_diff.max().tolist()\n",
    "solution_dict = (dates_and_close_diff.loc[ dates_and_close_diff['Close'] ==  largest_close_change[0] ]).to_dict()\n",
    "\n",
    "for key, value in solution_dict['Close'].items():\n",
    "    after_date = key\n",
    "    change = value\n",
    "after = datetime.strptime(after_date, '%Y-%d-%m')\n",
    "previous = after - timedelta(1)\n",
    "\n",
    "print(\"Largest change between any two days occured between \" + str(previous.date()) + \" and \" \n",
    "      + str(after.date()) + \" with a change of $\" + str(round(change,2)))\n"
   ]
  },
  {
   "cell_type": "code",
   "execution_count": 5,
   "metadata": {},
   "outputs": [
    {
     "name": "stdout",
     "output_type": "stream",
     "text": [
      "Average daily volume is 89124.337\n"
     ]
    }
   ],
   "source": [
    "#What was the average daily trading volume during this year?\n",
    "print(\"Average daily volume is \" + str(round(data['Traded Volume'].mean(), 3)))"
   ]
  },
  {
   "cell_type": "code",
   "execution_count": null,
   "metadata": {},
   "outputs": [],
   "source": []
  },
  {
   "cell_type": "code",
   "execution_count": null,
   "metadata": {},
   "outputs": [],
   "source": []
  }
 ],
 "metadata": {
  "kernelspec": {
   "display_name": "Python 3",
   "language": "python",
   "name": "python3"
  },
  "language_info": {
   "codemirror_mode": {
    "name": "ipython",
    "version": 3
   },
   "file_extension": ".py",
   "mimetype": "text/x-python",
   "name": "python",
   "nbconvert_exporter": "python",
   "pygments_lexer": "ipython3",
   "version": "3.7.1"
  }
 },
 "nbformat": 4,
 "nbformat_minor": 2
}
