{
 "cells": [
  {
   "cell_type": "code",
   "execution_count": 1,
   "metadata": {},
   "outputs": [],
   "source": [
    "import json\n",
    "import pandas as pd\n",
    "\n",
    "file_path='C:\\\\Users\\\\ramka\\\\OneDrive\\\\Documents\\\\springboard\\\\data_wrangling_json\\\\data_wrangling_json\\\\data\\\\world_bank_projects.json'\n",
    "world_banks_data = pd.read_json(file_path)"
   ]
  },
  {
   "cell_type": "code",
   "execution_count": 2,
   "metadata": {},
   "outputs": [
    {
     "name": "stdout",
     "output_type": "stream",
     "text": [
      "                    counts\n",
      "countryshortname          \n",
      "China                   19\n",
      "Indonesia               19\n",
      "Vietnam                 17\n",
      "India                   16\n",
      "Yemen, Republic of      13\n",
      "Bangladesh              12\n",
      "Morocco                 12\n",
      "Nepal                   12\n",
      "Africa                  11\n",
      "Mozambique              11\n"
     ]
    }
   ],
   "source": [
    "#Find the 10 countries with most projects\n",
    "\n",
    "distict_countries = world_banks_data['countryshortname'].drop_duplicates().count()     #118 distinct countries\n",
    "distinct_projects = world_banks_data['project_name'].drop_duplicates().count()         #500 distinct projects\n",
    "projects = world_banks_data['project_name'].count()                                    #500 projects period\n",
    "world_banks_data_count = world_banks_data.count()                                      #500 rows of data\n",
    "   \n",
    "#Solution: count number of times a certain country appears in the dataset.\n",
    "top_ten = world_banks_data[['id','countryshortname']].groupby('countryshortname').agg('count').nlargest(10, 'id')\n",
    "print(top_ten.rename(columns={'id':'counts'}))"
   ]
  },
  {
   "cell_type": "code",
   "execution_count": 3,
   "metadata": {},
   "outputs": [
    {
     "name": "stdout",
     "output_type": "stream",
     "text": [
      "  code                                          name  count\n",
      "1   11  Environment and natural resources management    250\n",
      "8   10                             Rural development    216\n",
      "0    8                             Human development    210\n",
      "5    2                      Public sector governance    199\n",
      "3    6         Social protection and risk management    168\n",
      "7    4      Financial and private sector development    146\n",
      "6    7                   Social dev/gender/inclusion    130\n",
      "4    5                         Trade and integration     77\n",
      "9    9                             Urban development     50\n",
      "2    1                           Economic management     38\n"
     ]
    }
   ],
   "source": [
    "#Return top 10 major themes in 'mjtheme_namecode'.\n",
    "\n",
    "themes_and_codes = world_banks_data['mjtheme_namecode']\n",
    "lookup_table_initial = []\n",
    "check = False\n",
    "\n",
    "for record in themes_and_codes:\n",
    "    for dicts in record:\n",
    "        \n",
    "        for reference in lookup_table_initial:\n",
    "            if reference['code'] == dicts['code']:              \n",
    "                check == True\n",
    "                reference['count'] += 1               \n",
    "                \n",
    "                if reference['name'] == '':            \n",
    "                    reference['name'] = dicts['name']\n",
    "                elif dicts['name'] == '':\n",
    "                    dicts['name'] = reference['name']\n",
    "                    \n",
    "                break\n",
    "            else:         \n",
    "                check = False\n",
    "\n",
    "        if check == False:    \n",
    "            dummy = {'code':'', 'name':'', 'count':1}\n",
    "            dummy['code'] = dicts['code']\n",
    "            dummy['name'] = dicts['name']\n",
    "            lookup_table_initial.append(dummy.copy())\n",
    "            \n",
    "\n",
    "lookup_table_complete = []\n",
    "for element in lookup_table_initial:\n",
    "    if element['count'] > 1:\n",
    "        lookup_table_complete.append(element)\n",
    "\n",
    "df = pd.DataFrame(lookup_table_complete)\n",
    "printout = df[['code','name', 'count']].nlargest(10, 'count')\n",
    "print(printout)"
   ]
  },
  {
   "cell_type": "code",
   "execution_count": 4,
   "metadata": {},
   "outputs": [],
   "source": [
    "#Fill in missing name attribute in 'mjtheme_namecode'\n",
    "\n",
    "for record in world_banks_data['mjtheme_namecode']:\n",
    "    for dicts in record:\n",
    "        if dicts['name'] == '':\n",
    "            for reference in lookup_table_complete:\n",
    "                if dicts['code'] == reference['code']:\n",
    "                    dicts['name'] = reference['name']\n",
    "\n",
    "#Sanity check\n",
    "for record in world_banks_data['mjtheme_namecode']:\n",
    "    for dicts in record:\n",
    "        if dicts['name'] == '':\n",
    "            print('Not all names were filled in.')"
   ]
  },
  {
   "cell_type": "code",
   "execution_count": null,
   "metadata": {},
   "outputs": [],
   "source": []
  },
  {
   "cell_type": "code",
   "execution_count": null,
   "metadata": {},
   "outputs": [],
   "source": []
  },
  {
   "cell_type": "code",
   "execution_count": null,
   "metadata": {},
   "outputs": [],
   "source": []
  }
 ],
 "metadata": {
  "kernelspec": {
   "display_name": "Python 3",
   "language": "python",
   "name": "python3"
  },
  "language_info": {
   "codemirror_mode": {
    "name": "ipython",
    "version": 3
   },
   "file_extension": ".py",
   "mimetype": "text/x-python",
   "name": "python",
   "nbconvert_exporter": "python",
   "pygments_lexer": "ipython3",
   "version": "3.7.1"
  }
 },
 "nbformat": 4,
 "nbformat_minor": 2
}
