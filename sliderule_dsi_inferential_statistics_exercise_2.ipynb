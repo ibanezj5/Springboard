{
 "cells": [
  {
   "cell_type": "markdown",
   "metadata": {},
   "source": [
    "# Examining Racial Discrimination in the US Job Market\n",
    "\n",
    "### Background\n",
    "Racial discrimination continues to be pervasive in cultures throughout the world. Researchers examined the level of racial discrimination in the United States labor market by randomly assigning identical résumés to black-sounding or white-sounding names and observing the impact on requests for interviews from employers.\n",
    "\n",
    "### Data\n",
    "In the dataset provided, each row represents a resume. The 'race' column has two values, 'b' and 'w', indicating black-sounding and white-sounding. The column 'call' has two values, 1 and 0, indicating whether the resume received a call from employers or not.\n",
    "\n",
    "Note that the 'b' and 'w' values in race are assigned randomly to the resumes when presented to the employer."
   ]
  },
  {
   "cell_type": "markdown",
   "metadata": {},
   "source": [
    "### Exercises\n",
    "You will perform a statistical analysis to establish whether race has a significant impact on the rate of callbacks for resumes.\n",
    "\n",
    "Answer the following questions **in this notebook below and submit to your Github account**. \n",
    "\n",
    "   1. What test is appropriate for this problem? Does CLT apply?\n",
    "   2. What are the null and alternate hypotheses?\n",
    "   3. Compute margin of error, confidence interval, and p-value. Try using both the bootstrapping and the frequentist statistical approaches.\n",
    "   4. Write a story describing the statistical significance in the context of the original problem.\n",
    "   5. Does your analysis mean that race/name is the most important factor in callback success? Why or why not? If not, how would you amend your analysis?\n",
    "\n",
    "You can include written notes in notebook cells using Markdown: \n",
    "   - In the control panel at the top, choose Cell > Cell Type > Markdown\n",
    "   - Markdown syntax: http://nestacms.com/docs/creating-content/markdown-cheat-sheet\n",
    "\n",
    "#### Resources\n",
    "+ Experiment information and data source: http://www.povertyactionlab.org/evaluation/discrimination-job-market-united-states\n",
    "+ Scipy statistical methods: http://docs.scipy.org/doc/scipy/reference/stats.html \n",
    "+ Markdown syntax: http://nestacms.com/docs/creating-content/markdown-cheat-sheet\n",
    "+ Formulas for the Bernoulli distribution: https://en.wikipedia.org/wiki/Bernoulli_distribution"
   ]
  },
  {
   "cell_type": "code",
   "execution_count": 1,
   "metadata": {},
   "outputs": [],
   "source": [
    "import pandas as pd\n",
    "import numpy as np\n",
    "from scipy import stats\n",
    "import matplotlib.pyplot as plt"
   ]
  },
  {
   "cell_type": "code",
   "execution_count": 2,
   "metadata": {},
   "outputs": [],
   "source": [
    "data = pd.io.stata.read_stata('data/us_job_market_discrimination.dta')\n",
    "w = data[data.race=='w']\n",
    "b = data[data.race=='b']"
   ]
  },
  {
   "cell_type": "code",
   "execution_count": 3,
   "metadata": {},
   "outputs": [
    {
     "name": "stdout",
     "output_type": "stream",
     "text": [
      "black call backs: 157.0\n",
      "white call backs: 235.0\n",
      "black call backs ratio: 0.06447638603696099\n",
      "white call backs ratio: 0.09650924024640657\n",
      "difference in call backs ratio: 0.032032854209445585\n",
      "black call backs absoulute ratio: 0.03223819301848049\n",
      "white call backs absoulute ratio: 0.048254620123203286\n"
     ]
    }
   ],
   "source": [
    "print( \"black call backs: \" + str(sum(data[data.race=='b'].call)) )\n",
    "print( \"white call backs: \" + str(sum(data[data.race=='w'].call)) )\n",
    "print( \"black call backs ratio: \" + str(sum(data[data.race=='b'].call)/len(data[data.race=='b'])) )\n",
    "print( \"white call backs ratio: \" + str(sum(data[data.race=='w'].call)/len(data[data.race=='w'])) )\n",
    "print( \"difference in call backs ratio: \" + str(sum(data[data.race=='w'].call)/len(data[data.race=='w']) - sum(data[data.race=='b'].call)/len(data[data.race=='b'])) )\n",
    "print( \"black call backs absoulute ratio: \" + str(sum(data[data.race=='b'].call)/len(data)) )\n",
    "print( \"white call backs absoulute ratio: \" + str(sum(data[data.race=='w'].call)/len(data)) )"
   ]
  },
  {
   "cell_type": "markdown",
   "metadata": {
    "collapsed": true
   },
   "source": [
    "<div class=\"span5 alert alert-success\">\n",
    "<p>Your answers to Q1 and Q2 here</p>\n",
    "</div>"
   ]
  },
  {
   "cell_type": "code",
   "execution_count": 4,
   "metadata": {
    "scrolled": true
   },
   "outputs": [],
   "source": [
    "# 1.) What test is appropriate for this problem? Does CLT apply?\n",
    "# 2.) What are the null and alternate hypotheses?"
   ]
  },
  {
   "cell_type": "markdown",
   "metadata": {},
   "source": [
    "* Null Hypothesis: There is bias based on race for the rate of callbacks, a difference of 0.032 occurs often (greater than 5% of the time) once the data is randomized numerous times. \n",
    "* Alternate Hypothesis: There is not a bias based on race for the rate of callbacks, a difference of 0.032 does not occur often (less than 5% of the time) once the data is randomized numerous times."
   ]
  },
  {
   "cell_type": "markdown",
   "metadata": {},
   "source": [
    "Central Limit Theorem Conditions:\n",
    "1. Randomization: During this anaysis we have to assume that the data is random and if we are proven wrong then we can   conclude a bias based on some factor.\n",
    "2. 10% rule: There are 4780 rows in the dataset so I am sure that this is less than 10% of the population.\n",
    "3. np = 157 or 235, n(1-p) = 2200 or 2278: greater than 10. (condition met)"
   ]
  },
  {
   "cell_type": "markdown",
   "metadata": {},
   "source": [
    "Game Plan:\n",
    "1. Calculate 90% confidence interval for callback rates for white sounding names.\n",
    "2. Calculate 90% confidence interval for callback rates for black sounding names.\n",
    "3. Take many random samples or the difference of each race's success rate and calculate a 90% confidence interval.\n",
    "4. Graph the results, beware of what positive and negative values imply. \n"
   ]
  },
  {
   "cell_type": "code",
   "execution_count": 6,
   "metadata": {},
   "outputs": [
    {
     "data": {
      "image/png": "[encoded data removed]",
      "text/plain": [
       "<Figure size 432x288 with 1 Axes>"
      ]
     },
     "metadata": {
      "needs_background": "light"
     },
     "output_type": "display_data"
    },
    {
     "name": "stdout",
     "output_type": "stream",
     "text": [
      "We are 90% confident that the success callback rate for whites is within: 0.04-0.16\n",
      "Mean value: 0.0966144\n"
     ]
    }
   ],
   "source": [
    "# Your solution to Q3 here\n",
    "# 3.) Compute margin of error, confidence interval, and p-value. Try using both the bootstrapping and the frequentist statistical approaches.\n",
    "\n",
    "#White Data\n",
    "\n",
    "samples_success_rates_white = np.empty(100000)\n",
    "\n",
    "for i in range(100000):\n",
    "    samples_statistics_random = np.random.choice( w['call'], size=100 )\n",
    "    samples_success_rates_white[i] = np.sum(samples_statistics_random)/100\n",
    "\n",
    "plt.hist(samples_success_rates_white, bins=10)\n",
    "plt.xlabel(\"Sample Callback Rate\")\n",
    "plt.ylabel(\"Frequency\")\n",
    "plt.show()\n",
    "\n",
    "confidence_interval_white = str( round(samples_success_rates_white.mean()-2.055*samples_success_rates_white.std(),2) ) + '-' + str( round(samples_success_rates_white.mean()+2.055*samples_success_rates_white.std(),2) )\n",
    "print(\"We are 90% confident that the success callback rate for whites is within: \" + confidence_interval_white)\n",
    "print(\"Mean value: \" + str(samples_success_rates_white.mean()))"
   ]
  },
  {
   "cell_type": "code",
   "execution_count": 7,
   "metadata": {},
   "outputs": [
    {
     "data": {
      "image/png": "[encoded data removed]",
      "text/plain": [
       "<Figure size 432x288 with 1 Axes>"
      ]
     },
     "metadata": {
      "needs_background": "light"
     },
     "output_type": "display_data"
    },
    {
     "name": "stdout",
     "output_type": "stream",
     "text": [
      "We are 90% confident that the success callback rate for blacks is within: 0.01-0.12\n",
      "Mean value: 0.06448480000000001\n"
     ]
    }
   ],
   "source": [
    "#Black Data\n",
    "\n",
    "samples_success_rates_black = np.empty(100000)\n",
    "\n",
    "for i in range(100000):\n",
    "    samples_statistics_random = np.random.choice( b['call'], size=100 )\n",
    "    samples_success_rates_black[i] = np.sum(samples_statistics_random)/100\n",
    "\n",
    "plt.hist(samples_success_rates_black, bins=10)\n",
    "plt.xlabel(\"Sample Callback Rate\")\n",
    "plt.ylabel(\"Frequency\")\n",
    "plt.show()\n",
    "\n",
    "confidence_interval_black = str( round(samples_success_rates_black.mean()-2.055*samples_success_rates_black.std(),2) ) + '-' + str( round(samples_success_rates_black.mean()+2.055*samples_success_rates_black.std(),2) )\n",
    "print(\"We are 90% confident that the success callback rate for blacks is within: \" + confidence_interval_black)\n",
    "print(\"Mean value: \" + str(samples_success_rates_black.mean()))"
   ]
  },
  {
   "cell_type": "code",
   "execution_count": 15,
   "metadata": {},
   "outputs": [
    {
     "data": {
      "image/png": "[encoded data removed]",
      "text/plain": [
       "<Figure size 432x288 with 1 Axes>"
      ]
     },
     "metadata": {
      "needs_background": "light"
     },
     "output_type": "display_data"
    },
    {
     "name": "stdout",
     "output_type": "stream",
     "text": [
      "p-value = 0.49901999999999996\n",
      "We are 90% confident that the difference in rates is within: -0.02-0.09\n",
      "Mean value: 0.031999049999999994\n",
      "A positive value correlates with whites having the greater success rate and vice versa for negative values.\n",
      "Number of instances of positive values is 0.86223\n",
      "Number of instances of negative values is 0.10109\n"
     ]
    }
   ],
   "source": [
    "difference_of_rates_with_race = np.empty(100000)\n",
    "\n",
    "for i in range(100000):\n",
    "    samples_statistics_random_white = np.random.choice( w['call'], size=200 )\n",
    "    samples_statistics_random_black = np.random.choice( b['call'], size=200 )\n",
    "    white_sample = np.sum(samples_statistics_random_white)/200\n",
    "    black_sample = np.sum(samples_statistics_random_black)/200\n",
    "    difference_of_rates_with_race[i] = white_sample - black_sample\n",
    "    \n",
    " \n",
    "plt.hist(difference_of_rates_with_race, bins=10)\n",
    "plt.xlabel(\"Difference in Callback Rate\")\n",
    "plt.ylabel(\"Frequency\")\n",
    "plt.show()\n",
    "print( \"p-value = \" + str( (np.sum(difference_of_rates_with_race >= 0.032))/(len(difference_of_rates_with_race)) +  (np.sum(difference_of_rates_with_race <= -0.032))/(len(difference_of_rates_with_race)) ) )\n",
    "\n",
    "confidence_interval_with_race = str( round(difference_of_rates_with_race.mean()-2.055*difference_of_rates_with_race.std(),2) ) + '-' + str( round(difference_of_rates_with_race.mean()+2.055*difference_of_rates_with_race.std(),2) )\n",
    "print( \"We are 90% confident that the difference in rates is within: \" + confidence_interval_with_race )\n",
    "print( \"Mean value: \" + str(difference_of_rates_with_race.mean()) )\n",
    "print( \"A positive value correlates with whites having the greater success rate and vice versa for negative values.\")\n",
    "print( \"Number of instances of positive values is \" + str( (np.sum(difference_of_rates_with_race > 0))/(len(difference_of_rates_with_race)) ))\n",
    "print( \"Number of instances of negative values is \" + str( (np.sum(difference_of_rates_with_race < 0))/(len(difference_of_rates_with_race)) ))"
   ]
  },
  {
   "cell_type": "markdown",
   "metadata": {},
   "source": [
    "<div class=\"span5 alert alert-success\">\n",
    "<p> Your answers to Q4 and Q5 here </p>\n",
    "</div>"
   ]
  },
  {
   "cell_type": "markdown",
   "metadata": {},
   "source": [
    "After analyzing the whites sounding names data, the black sounding names data, and the difference in success rates, we clearly see a bias. In the difference of callback rates analysis (above), the difference was calaulated with the white callback minus the black callback rate. After running this simulation 100,000 times we see that 86% percent of the time there is a positive value meaning that, white sounding names have a higher callback rate than black sounding names 86% of the time. The mean value of callback rates for white sounding names is 9.7% and the mean value of callback rates for black sounding names is 6.4%."
   ]
  },
  {
   "cell_type": "markdown",
   "metadata": {},
   "source": [
    "# Extra: Analysis Without Consideration for Race"
   ]
  },
  {
   "cell_type": "code",
   "execution_count": 13,
   "metadata": {},
   "outputs": [
    {
     "data": {
      "image/png": "[encoded data removed]",
      "text/plain": [
       "<Figure size 432x288 with 1 Axes>"
      ]
     },
     "metadata": {
      "needs_background": "light"
     },
     "output_type": "display_data"
    },
    {
     "name": "stdout",
     "output_type": "stream",
     "text": [
      "We are 90% confident that the success callback rate for anyone is within: 0.02-0.14\n",
      "Mean value: 0.0805634\n"
     ]
    }
   ],
   "source": [
    "#All Data\n",
    "\n",
    "samples_success_rates_all = np.empty(100000)\n",
    "\n",
    "for i in range(100000):\n",
    "    samples_statistics_random = np.random.choice( data['call'], size=100 )\n",
    "    samples_success_rates_all[i] = np.sum(samples_statistics_random)/100\n",
    "\n",
    "plt.hist(samples_success_rates_all, bins=10)\n",
    "plt.xlabel(\"Sample Callback Rate\")\n",
    "plt.ylabel(\"Frequency\")\n",
    "plt.show()\n",
    "\n",
    "confidence_interval_all = str( round(samples_success_rates_all.mean()-2.055*samples_success_rates_all.std(),2) ) + '-' + str( round(samples_success_rates_all.mean()+2.055*samples_success_rates_all.std(),2) )\n",
    "print(\"We are 90% confident that the success callback rate for anyone is within: \" + confidence_interval_all)\n",
    "print(\"Mean value: \" + str(samples_success_rates_all.mean()))"
   ]
  },
  {
   "cell_type": "code",
   "execution_count": 14,
   "metadata": {},
   "outputs": [
    {
     "data": {
      "image/png": "[encoded data removed]",
      "text/plain": [
       "<Figure size 432x288 with 1 Axes>"
      ]
     },
     "metadata": {
      "needs_background": "light"
     },
     "output_type": "display_data"
    },
    {
     "name": "stdout",
     "output_type": "stream",
     "text": [
      "p-value = 0.35901\n"
     ]
    }
   ],
   "source": [
    "\n",
    "\n",
    "difference_of_rates = np.empty(100000)\n",
    "\n",
    "for i in range(100000):\n",
    "    samples_statistics_random = np.random.choice( data['call'], size=200 )\n",
    "    first_half = np.sum(samples_statistics_random[:100])/100\n",
    "    second_half = np.sum(samples_statistics_random[100:])/100\n",
    "    difference_of_rates[i] = first_half - second_half\n",
    "    \n",
    " \n",
    "plt.hist(difference_of_rates, bins=10)\n",
    "plt.xlabel(\"Difference in Callback Rate\")\n",
    "plt.ylabel(\"Frequency\")\n",
    "plt.show()\n",
    "print(\"p-value = \" + str( (np.sum(difference_of_rates >= 0.032))/(len(difference_of_rates)) +  (np.sum(difference_of_rates <= -0.032))/(len(difference_of_rates)) ) )"
   ]
  },
  {
   "cell_type": "code",
   "execution_count": null,
   "metadata": {},
   "outputs": [],
   "source": []
  }
 ],
 "metadata": {
  "kernelspec": {
   "display_name": "Python 3",
   "language": "python",
   "name": "python3"
  },
  "language_info": {
   "codemirror_mode": {
    "name": "ipython",
    "version": 3
   },
   "file_extension": ".py",
   "mimetype": "text/x-python",
   "name": "python",
   "nbconvert_exporter": "python",
   "pygments_lexer": "ipython3",
   "version": "3.7.1"
  }
 },
 "nbformat": 4,
 "nbformat_minor": 1
}
